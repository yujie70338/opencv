{
 "cells": [
  {
   "cell_type": "markdown",
   "metadata": {},
   "source": [
    "## Install OpenCV"
   ]
  },
  {
   "cell_type": "markdown",
   "metadata": {},
   "source": [
    "`pip install opencv-python`"
   ]
  },
  {
   "cell_type": "markdown",
   "metadata": {},
   "source": [
    "# Basic OpenCV"
   ]
  },
  {
   "cell_type": "markdown",
   "metadata": {},
   "source": [
    "![alt text](images/lena.jpg)"
   ]
  },
  {
   "cell_type": "markdown",
   "metadata": {},
   "source": [
    "## read/write image"
   ]
  },
  {
   "cell_type": "code",
   "execution_count": 1,
   "metadata": {},
   "outputs": [],
   "source": [
    "import cv2 #opencv读取的格式是BGR\n",
    "import matplotlib.pyplot as plt\n",
    "import numpy as np \n",
    "%matplotlib inline \n",
    "\n",
    "color_img=cv2.imread('./images/cat.jpg',cv2.IMREAD_COLOR) # colorful image\n",
    "gray_img=cv2.imread('./images/cat.jpg',cv2.IMREAD_GRAYSCALE) # grayscale image"
   ]
  },
  {
   "cell_type": "code",
   "execution_count": 2,
   "metadata": {},
   "outputs": [
    {
     "data": {
      "text/plain": [
       "(414, 500, 3)"
      ]
     },
     "execution_count": 2,
     "metadata": {},
     "output_type": "execute_result"
    }
   ],
   "source": [
    "color_img.shape"
   ]
  },
  {
   "cell_type": "code",
   "execution_count": 3,
   "metadata": {},
   "outputs": [
    {
     "data": {
      "text/plain": [
       "(414, 500)"
      ]
     },
     "execution_count": 3,
     "metadata": {},
     "output_type": "execute_result"
    }
   ],
   "source": [
    "gray_img.shape"
   ]
  },
  {
   "cell_type": "code",
   "execution_count": 4,
   "metadata": {},
   "outputs": [
    {
     "data": {
      "text/plain": [
       "dtype('uint8')"
      ]
     },
     "execution_count": 4,
     "metadata": {},
     "output_type": "execute_result"
    }
   ],
   "source": [
    "color_img.dtype"
   ]
  },
  {
   "cell_type": "code",
   "execution_count": 5,
   "metadata": {},
   "outputs": [
    {
     "data": {
      "text/plain": [
       "dtype('uint8')"
      ]
     },
     "execution_count": 5,
     "metadata": {},
     "output_type": "execute_result"
    }
   ],
   "source": [
    "gray_img.dtype"
   ]
  },
  {
   "cell_type": "code",
   "execution_count": 6,
   "metadata": {},
   "outputs": [
    {
     "data": {
      "text/plain": [
       "array([[[142, 151, 160],\n",
       "        [146, 155, 164],\n",
       "        [151, 160, 170],\n",
       "        ...,\n",
       "        [156, 172, 185],\n",
       "        [155, 171, 184],\n",
       "        [154, 170, 183]],\n",
       "\n",
       "       [[108, 117, 126],\n",
       "        [112, 123, 131],\n",
       "        [118, 127, 137],\n",
       "        ...,\n",
       "        [155, 171, 184],\n",
       "        [154, 170, 183],\n",
       "        [153, 169, 182]],\n",
       "\n",
       "       [[108, 119, 127],\n",
       "        [110, 123, 131],\n",
       "        [118, 128, 138],\n",
       "        ...,\n",
       "        [156, 169, 183],\n",
       "        [155, 168, 182],\n",
       "        [154, 167, 181]],\n",
       "\n",
       "       ...,\n",
       "\n",
       "       [[162, 186, 198],\n",
       "        [157, 181, 193],\n",
       "        [142, 166, 178],\n",
       "        ...,\n",
       "        [181, 204, 206],\n",
       "        [170, 193, 195],\n",
       "        [149, 172, 174]],\n",
       "\n",
       "       [[140, 164, 176],\n",
       "        [147, 171, 183],\n",
       "        [139, 163, 175],\n",
       "        ...,\n",
       "        [169, 187, 188],\n",
       "        [125, 143, 144],\n",
       "        [106, 124, 125]],\n",
       "\n",
       "       [[154, 178, 190],\n",
       "        [154, 178, 190],\n",
       "        [121, 145, 157],\n",
       "        ...,\n",
       "        [183, 198, 200],\n",
       "        [128, 143, 145],\n",
       "        [127, 142, 144]]], dtype=uint8)"
      ]
     },
     "execution_count": 6,
     "metadata": {},
     "output_type": "execute_result"
    }
   ],
   "source": [
    "color_img"
   ]
  },
  {
   "cell_type": "code",
   "execution_count": 7,
   "metadata": {},
   "outputs": [
    {
     "data": {
      "text/plain": [
       "array([[153, 157, 162, ..., 174, 173, 172],\n",
       "       [119, 124, 129, ..., 173, 172, 171],\n",
       "       [120, 124, 130, ..., 172, 171, 170],\n",
       "       ...,\n",
       "       [187, 182, 167, ..., 202, 191, 170],\n",
       "       [165, 172, 164, ..., 185, 141, 122],\n",
       "       [179, 179, 146, ..., 197, 142, 141]], dtype=uint8)"
      ]
     },
     "execution_count": 7,
     "metadata": {},
     "output_type": "execute_result"
    }
   ],
   "source": [
    "gray_img"
   ]
  },
  {
   "cell_type": "code",
   "execution_count": 8,
   "metadata": {},
   "outputs": [],
   "source": [
    "# show image\n",
    "#cv2.imshow('image',color_img) \n",
    "cv2.imshow('image',gray_img) \n",
    "# waiting time(ms), 0 mean any stop key\n",
    "cv2.waitKey(0) \n",
    "cv2.destroyAllWindows()"
   ]
  },
  {
   "cell_type": "code",
   "execution_count": 9,
   "metadata": {},
   "outputs": [
    {
     "data": {
      "text/plain": [
       "True"
      ]
     },
     "execution_count": 9,
     "metadata": {},
     "output_type": "execute_result"
    }
   ],
   "source": [
    "cv2.imwrite('./images/mycat.png',color_img)\n",
    "#cv2.imwrite('mycat.png',gray_img)"
   ]
  },
  {
   "cell_type": "markdown",
   "metadata": {},
   "source": [
    "## region of interest (ROI)"
   ]
  },
  {
   "cell_type": "code",
   "execution_count": 10,
   "metadata": {},
   "outputs": [],
   "source": [
    "import cv2\n",
    "img=cv2.imread('./images/cat.jpg')\n",
    "cv2.imshow('image',img) \n",
    "cv2.waitKey(0) \n",
    "cv2.destroyAllWindows()"
   ]
  },
  {
   "cell_type": "code",
   "execution_count": 11,
   "metadata": {},
   "outputs": [],
   "source": [
    "cat=img[0:50,0:200]  # region of interest(ROI)\n",
    "cv2.imshow('image',cat) \n",
    "cv2.waitKey(0) \n",
    "cv2.destroyAllWindows()"
   ]
  },
  {
   "cell_type": "markdown",
   "metadata": {},
   "source": [
    "## split image channel "
   ]
  },
  {
   "cell_type": "code",
   "execution_count": 12,
   "metadata": {},
   "outputs": [],
   "source": [
    "import cv2\n",
    "img=cv2.imread('./images/cat.jpg')\n",
    " # 在openCV 順序是 bgr\n",
    "b = img[:,:,0]\n",
    "g = img[:,:,1]\n",
    "r = img[:,:,2]\n",
    "\n",
    "# b, g, r = cv2.split(img)\n",
    "\n",
    "cv2.imshow('origin',img)\n",
    "\n",
    "cv2.imshow('b',b)\n",
    "cv2.imshow('g',g)\n",
    "cv2.imshow('r',r)\n",
    "\n",
    "img[:,:,0] = 0\n",
    "cv2.imshow('clean channel b to zero',img)\n",
    "\n",
    "img[:,:,1] = 0\n",
    "cv2.imshow('clean channel b & g to zero',img)\n",
    "\n",
    "\n",
    "cv2.waitKey(0) \n",
    "cv2.destroyAllWindows()"
   ]
  },
  {
   "cell_type": "markdown",
   "metadata": {},
   "source": [
    "## merge image channel"
   ]
  },
  {
   "cell_type": "code",
   "execution_count": 13,
   "metadata": {},
   "outputs": [],
   "source": [
    "import cv2\n",
    "img=cv2.imread('./images/cat.jpg')\n",
    "\n",
    "b, g, r = cv2.split(img)\n",
    "bgr_img = cv2.merge([b,g,r])\n",
    "rgb_img = cv2.merge([r,g,b]) # 順序不對，貓感覺中毒了! \n",
    "\n",
    "cv2.imshow('bgr image',bgr_img)\n",
    "cv2.imshow('rgb image',rgb_img)\n",
    "\n",
    "cv2.waitKey(0) \n",
    "cv2.destroyAllWindows()"
   ]
  },
  {
   "cell_type": "markdown",
   "metadata": {},
   "source": [
    "## Generate images"
   ]
  },
  {
   "cell_type": "code",
   "execution_count": 14,
   "metadata": {},
   "outputs": [],
   "source": [
    "import numpy as np\n",
    "import cv2\n",
    "\n",
    "b_img = np.zeros((300,300,3), dtype=np.uint8)\n",
    "b_img[:,:,0] = 255\n",
    "cv2.imshow('b_img', b_img)\n",
    "\n",
    "g_img = np.zeros((300,300,3), dtype=np.uint8)\n",
    "g_img[:,:,1] = 255\n",
    "cv2.imshow('g_img', g_img)\n",
    "\n",
    "r_img = np.zeros((300,300,3), dtype=np.uint8)\n",
    "r_img[:,:,2] = 255\n",
    "cv2.imshow('r_img', r_img)\n",
    "\n",
    "#random_img =  np.random.randint(0,256, size=[300,300], dtype=np.uint8)\n",
    "#cv2.imshow('random_img', random_img)\n",
    "\n",
    "random_img =  np.random.randint(0,256, size=[300,300,3], dtype=np.uint8)\n",
    "cv2.imshow('random_img', random_img)\n",
    "\n",
    "cv2.waitKey(0) \n",
    "cv2.destroyAllWindows()"
   ]
  },
  {
   "cell_type": "markdown",
   "metadata": {},
   "source": [
    "## Boundary Padding  \n",
    "- BORDER_REPLICATE：复制法，也就是复制最边缘像素。\n",
    "- BORDER_REFLECT：反射法，对感兴趣的图像中的像素在两边进行复制例如：fedcba|abcdefgh|hgfedcb   \n",
    "- BORDER_REFLECT_101：反射法，也就是以最边缘像素为轴，对称，gfedcb|abcdefgh|gfedcba\n",
    "- BORDER_WRAP：外包装法cdefgh|abcdefgh|abcdefg  \n",
    "- BORDER_CONSTANT：常量法，常数值填充。"
   ]
  },
  {
   "cell_type": "code",
   "execution_count": 15,
   "metadata": {},
   "outputs": [],
   "source": [
    "import numpy as np\n",
    "import cv2\n",
    "\n",
    "img=cv2.imread('./images/cat.jpg')\n",
    "top_size,bottom_size,left_size,right_size = (50,50,50,50)\n",
    "\n",
    "replicate = cv2.copyMakeBorder(img, top_size, bottom_size, left_size, right_size, borderType=cv2.BORDER_REPLICATE)\n",
    "reflect = cv2.copyMakeBorder(img, top_size, bottom_size, left_size, right_size,cv2.BORDER_REFLECT)\n",
    "reflect101 = cv2.copyMakeBorder(img, top_size, bottom_size, left_size, right_size, cv2.BORDER_REFLECT_101)\n",
    "wrap = cv2.copyMakeBorder(img, top_size, bottom_size, left_size, right_size, cv2.BORDER_WRAP)\n",
    "constant = cv2.copyMakeBorder(img, top_size, bottom_size, left_size, right_size,cv2.BORDER_CONSTANT, value=(255,255,0))\n",
    "\n",
    "cv2.imshow('replicate', replicate)\n",
    "cv2.imshow('reflect', reflect)\n",
    "cv2.imshow('reflect101', reflect101)\n",
    "cv2.imshow('wrap', wrap)\n",
    "cv2.imshow('constant', constant)\n",
    "\n",
    "cv2.waitKey(0) \n",
    "cv2.destroyAllWindows()"
   ]
  },
  {
   "cell_type": "markdown",
   "metadata": {},
   "source": [
    "## Image Operation(ADD)"
   ]
  },
  {
   "cell_type": "code",
   "execution_count": 16,
   "metadata": {},
   "outputs": [
    {
     "name": "stdout",
     "output_type": "stream",
     "text": [
      "[[ 15 197   1]\n",
      " [237 173  58]\n",
      " [ 71  25 146]]\n",
      "[[106 187 163]\n",
      " [128 236 245]\n",
      " [200  66  11]]\n",
      "[[121 128 164]\n",
      " [109 153  47]\n",
      " [ 15  91 157]]\n"
     ]
    }
   ],
   "source": [
    "import cv2\n",
    "import numpy as np\n",
    "\n",
    "img1 = np.random.randint(0, 256, size=[3,3], dtype=np.uint8)\n",
    "img2 = np.random.randint(0, 256, size=[3,3], dtype=np.uint8)\n",
    "\n",
    "print(img1)\n",
    "print(img2)\n",
    "print(img1+img2)  # 超過255，重新計算"
   ]
  },
  {
   "cell_type": "code",
   "execution_count": 17,
   "metadata": {
    "scrolled": true
   },
   "outputs": [
    {
     "name": "stdout",
     "output_type": "stream",
     "text": [
      "[[204  54 110]\n",
      " [251 208 137]\n",
      " [152 193  95]]\n",
      "[[ 23 148 215]\n",
      " [ 94  34 173]\n",
      " [159 226  20]]\n",
      "[[227 202 255]\n",
      " [255 242 255]\n",
      " [255 255 115]]\n"
     ]
    }
   ],
   "source": [
    "import cv2\n",
    "import numpy as np\n",
    "\n",
    "img1 = np.random.randint(0, 256, size=[3,3], dtype=np.uint8)\n",
    "img2 = np.random.randint(0, 256, size=[3,3], dtype=np.uint8)\n",
    "\n",
    "print(img1)\n",
    "print(img2)\n",
    "print(cv2.add(img1,img2))  # 超過255，直接變成255"
   ]
  },
  {
   "cell_type": "code",
   "execution_count": 18,
   "metadata": {},
   "outputs": [],
   "source": [
    "import cv2\n",
    "\n",
    "img1=cv2.imread('./images/cat.jpg',cv2.IMREAD_COLOR)\n",
    "img2=cv2.imread('./images/cat.jpg',cv2.IMREAD_COLOR)\n",
    "\n",
    "cv2.imshow('img1+img2', img1+img2)\n",
    "cv2.imshow('cv2.add(img1, img2)', cv2.add(img1,img2)) # 兩種相加的差別\n",
    "\n",
    "cv2.waitKey(0) \n",
    "cv2.destroyAllWindows()"
   ]
  },
  {
   "cell_type": "markdown",
   "metadata": {},
   "source": [
    "# -----------------------------------------------------------------------"
   ]
  },
  {
   "cell_type": "code",
   "execution_count": 19,
   "metadata": {},
   "outputs": [],
   "source": [
    "import cv2\n",
    "import numpy as np\n",
    "img1=cv2.imread('./images/cat.jpg',cv2.IMREAD_COLOR)\n",
    "img2 = np.full(img1.shape, 50, dtype=np.uint8)  # 調亮 整體+50\n",
    "\n",
    "cv2.imshow('img1', img1)\n",
    "#cv2.imshow('img1+50', cv2.add(img1,50))\n",
    "cv2.imshow('img1+50', cv2.add(img1,img2))\n",
    "\n",
    "cv2.waitKey(0) \n",
    "cv2.destroyAllWindows()"
   ]
  },
  {
   "cell_type": "code",
   "execution_count": 27,
   "metadata": {
    "collapsed": true
   },
   "outputs": [
    {
     "data": {
      "text/plain": [
       "array([[[126, 134, 223],\n",
       "        [125, 133, 222],\n",
       "        [124, 133, 223],\n",
       "        ...,\n",
       "        [128, 148, 235],\n",
       "        [120, 148, 232],\n",
       "        [ 90, 118, 202]],\n",
       "\n",
       "       [[127, 137, 225],\n",
       "        [126, 136, 224],\n",
       "        [124, 133, 223],\n",
       "        ...,\n",
       "        [135, 150, 236],\n",
       "        [131, 152, 234],\n",
       "        [ 96, 117, 198]],\n",
       "\n",
       "       [[124, 135, 225],\n",
       "        [123, 137, 226],\n",
       "        [121, 134, 226],\n",
       "        ...,\n",
       "        [144, 150, 233],\n",
       "        [138, 143, 222],\n",
       "        [ 96, 100, 178]],\n",
       "\n",
       "       ...,\n",
       "\n",
       "       [[ 59,  25,  90],\n",
       "        [ 61,  27,  92],\n",
       "        [ 59,  26,  93],\n",
       "        ...,\n",
       "        [ 80,  61, 148],\n",
       "        [ 79,  62, 153],\n",
       "        [ 80,  64, 158]],\n",
       "\n",
       "       [[ 56,  22,  87],\n",
       "        [ 60,  26,  91],\n",
       "        [ 55,  22,  89],\n",
       "        ...,\n",
       "        [ 85,  67, 156],\n",
       "        [ 87,  71, 165],\n",
       "        [ 80,  67, 165]],\n",
       "\n",
       "       [[ 51,  17,  82],\n",
       "        [ 63,  29,  94],\n",
       "        [ 58,  25,  92],\n",
       "        ...,\n",
       "        [ 85,  68, 159],\n",
       "        [ 90,  76, 172],\n",
       "        [ 88,  75, 177]]], dtype=uint8)"
      ]
     },
     "execution_count": 27,
     "metadata": {},
     "output_type": "execute_result"
    }
   ],
   "source": [
    "#img1"
   ]
  },
  {
   "cell_type": "code",
   "execution_count": 28,
   "metadata": {},
   "outputs": [
    {
     "data": {
      "text/plain": [
       "array([[[  0,   0,   0],\n",
       "        [  0,   0,   0],\n",
       "        [  0,   0,   0],\n",
       "        ...,\n",
       "        [  0,   0,   0],\n",
       "        [  0,   0,   0],\n",
       "        [  0,   0,   0]],\n",
       "\n",
       "       [[  0,   0,   0],\n",
       "        [  0,   0,   0],\n",
       "        [  0,   0,   0],\n",
       "        ...,\n",
       "        [  0,   0,   0],\n",
       "        [  0,   0,   0],\n",
       "        [  0,   0,   0]],\n",
       "\n",
       "       [[  0,   0,   0],\n",
       "        [  0,   0,   0],\n",
       "        [  0,   0,   0],\n",
       "        ...,\n",
       "        [  0,   0,   0],\n",
       "        [  0,   0,   0],\n",
       "        [  0,   0,   0]],\n",
       "\n",
       "       ...,\n",
       "\n",
       "       [[  0,   0,   0],\n",
       "        [  0,   0,   0],\n",
       "        [  0,   0,   0],\n",
       "        ...,\n",
       "        [255, 255, 255],\n",
       "        [255, 255, 255],\n",
       "        [255, 255, 255]],\n",
       "\n",
       "       [[  0,   0,   0],\n",
       "        [  0,   0,   0],\n",
       "        [  0,   0,   0],\n",
       "        ...,\n",
       "        [255, 255, 255],\n",
       "        [255, 255, 255],\n",
       "        [255, 255, 255]],\n",
       "\n",
       "       [[  0,   0,   0],\n",
       "        [  0,   0,   0],\n",
       "        [  0,   0,   0],\n",
       "        ...,\n",
       "        [255, 255, 255],\n",
       "        [255, 255, 255],\n",
       "        [255, 255, 255]]], dtype=uint8)"
      ]
     },
     "execution_count": 28,
     "metadata": {},
     "output_type": "execute_result"
    }
   ],
   "source": [
    "# img2 # 製作一個形狀一樣的全是50的圖片，利用add函數 打亮照片"
   ]
  },
  {
   "cell_type": "markdown",
   "metadata": {},
   "source": [
    "## Image Operation(ADD Weighted)"
   ]
  },
  {
   "cell_type": "code",
   "execution_count": 22,
   "metadata": {},
   "outputs": [],
   "source": [
    "import cv2\n",
    "\n",
    "img1=cv2.imread('./images/cat.jpg',cv2.IMREAD_COLOR)\n",
    "img2=cv2.imread('./images/lena.jpg',cv2.IMREAD_COLOR)\n",
    "\n",
    "img1 = cv2.resize(img1, (250, 250))\n",
    "img2 = cv2.resize(img2, (250, 250))\n",
    "\n",
    "# img1 * 0.4 + img * 0.6 + 0\n",
    "# 照片的加權+疊加，括號最後的參數，是調亮度的\n",
    "#result = cv2.addWeighted(img1, 0.4, img2, 0.6, 0)\n",
    "result = cv2.addWeighted(img1, 0.4, img2, 0.6, 50)\n",
    "\n",
    "cv2.imshow('weighted image', result)\n",
    "\n",
    "cv2.waitKey(0) \n",
    "cv2.destroyAllWindows()"
   ]
  },
  {
   "cell_type": "markdown",
   "metadata": {},
   "source": [
    "## Image Operation(Bitwise Operation)"
   ]
  },
  {
   "cell_type": "code",
   "execution_count": 23,
   "metadata": {},
   "outputs": [],
   "source": [
    "import cv2\n",
    "import numpy as np\n",
    "\n",
    "img1 = cv2.imread('./images/lena.jpg')\n",
    "img2 = np.zeros(img1.shape, dtype=np.uint8)\n",
    "img2[100:400, 200:400]=255  # 白色區塊 # 注意是 [Y, X] 相反\n",
    "img2[100:500, 100:200]=255\n",
    "\n",
    "\n",
    "and_result = cv2.bitwise_and(img1, img2)\n",
    "or_result = cv2.bitwise_or(img1, img2)\n",
    "xor_result = cv2.bitwise_xor(img1, img2)\n",
    "not_result = cv2.bitwise_not(img1)\n",
    "\n",
    "cv2.imshow('img2', img2)\n",
    "cv2.imshow('img1', img1)\n",
    "\n",
    "cv2.imshow('and result', and_result)\n",
    "cv2.imshow('or result', or_result)\n",
    "cv2.imshow('xor result', xor_result)\n",
    "cv2.imshow('not result', not_result)\n",
    "\n",
    "\n",
    "cv2.waitKey(0) \n",
    "cv2.destroyAllWindows()"
   ]
  },
  {
   "cell_type": "markdown",
   "metadata": {},
   "source": [
    "# -----------------------------------------------------------------------"
   ]
  },
  {
   "cell_type": "markdown",
   "metadata": {},
   "source": [
    "## Image Operation(Encrypt image)"
   ]
  },
  {
   "cell_type": "code",
   "execution_count": 24,
   "metadata": {},
   "outputs": [],
   "source": [
    "import cv2\n",
    "import numpy as np\n",
    "\n",
    "img1 = cv2.imread('./images/lena.jpg')\n",
    "key = np.random.randint(0,256,size=img1.shape, dtype=np.uint8)\n",
    "\n",
    "encryption = cv2.bitwise_xor(img1, key)\n",
    "decryption = cv2.bitwise_xor(encryption, key)  # 圖片的加密! \n",
    "\n",
    "cv2.imshow('img1', img1)\n",
    "cv2.imshow('key', key)\n",
    "cv2.imshow('encryption', encryption)\n",
    "cv2.imshow('decryption', decryption)\n",
    "\n",
    "\n",
    "cv2.waitKey(0) \n",
    "cv2.destroyAllWindows()"
   ]
  },
  {
   "cell_type": "code",
   "execution_count": 25,
   "metadata": {},
   "outputs": [
    {
     "data": {
      "text/plain": [
       "(263, 263, 3)"
      ]
     },
     "execution_count": 25,
     "metadata": {},
     "output_type": "execute_result"
    }
   ],
   "source": [
    "img1.shape"
   ]
  },
  {
   "cell_type": "markdown",
   "metadata": {},
   "source": [
    "## Grayscale"
   ]
  },
  {
   "cell_type": "code",
   "execution_count": 26,
   "metadata": {},
   "outputs": [],
   "source": [
    "import cv2 #opencv讀取格式是BGR\n",
    "import numpy as np\n",
    "\n",
    "img=cv2.imread('./images/lena.jpg')\n",
    "img_gray = cv2.cvtColor(img,cv2.COLOR_BGR2GRAY) # 把圖片轉成灰階照片\n",
    "cv2.imshow('gray image', img_gray)\n",
    "\n",
    "cv2.waitKey(0) \n",
    "cv2.destroyAllWindows()"
   ]
  }
 ],
 "metadata": {
  "kernelspec": {
   "display_name": "Python 3 (ipykernel)",
   "language": "python",
   "name": "python3"
  },
  "language_info": {
   "codemirror_mode": {
    "name": "ipython",
    "version": 3
   },
   "file_extension": ".py",
   "mimetype": "text/x-python",
   "name": "python",
   "nbconvert_exporter": "python",
   "pygments_lexer": "ipython3",
   "version": "3.8.13"
  }
 },
 "nbformat": 4,
 "nbformat_minor": 2
}
